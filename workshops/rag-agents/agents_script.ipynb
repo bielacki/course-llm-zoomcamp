{
 "cells": [
  {
   "cell_type": "code",
   "execution_count": null,
   "id": "9702dc32-bf9e-43a6-ac0d-99b7f2f4e01d",
   "metadata": {},
   "outputs": [],
   "source": [
    "import requests\n",
    "from minsearch import AppendableIndex\n",
    "\n",
    "docs_url = 'https://github.com/alexeygrigorev/llm-rag-workshop/raw/main/notebooks/documents.json'\n",
    "docs_response = requests.get(docs_url)\n",
    "documents_raw = docs_response.json()\n",
    "\n",
    "documents = []\n",
    "\n",
    "for course in documents_raw:\n",
    "    course_name = course['course']\n",
    "\n",
    "    for doc in course['documents']:\n",
    "        doc['course'] = course_name\n",
    "        documents.append(doc)\n",
    "\n",
    "index = AppendableIndex(\n",
    "    text_fields=[\"question\", \"text\", \"section\"],\n",
    "    keyword_fields=[\"course\"]\n",
    ")\n",
    "\n",
    "index.fit(documents)\n",
    "\n",
    "def search(query):\n",
    "    boost = {'question': 3.0, 'section': 0.5}\n",
    "\n",
    "    results = index.search(\n",
    "        query=query,\n",
    "        filter_dict={'course': 'data-engineering-zoomcamp'},\n",
    "        boost_dict=boost,\n",
    "        num_results=5,\n",
    "        output_ids=True\n",
    "    )\n",
    "\n",
    "    return results"
   ]
  },
  {
   "cell_type": "code",
   "execution_count": null,
   "id": "f4ef64c0-f172-4d95-85bf-eb84d3b4ab63",
   "metadata": {},
   "outputs": [],
   "source": [
    "search_description = {\n",
    "    \"type\": \"function\",\n",
    "    \"name\": \"search\",\n",
    "    \"description\": \"Search the FAQ database\",\n",
    "    \"parameters\": {\n",
    "        \"type\": \"object\",\n",
    "        \"properties\": {\n",
    "            \"query\": {\n",
    "                \"type\": \"string\",\n",
    "                \"description\": \"Search query text to look up in the course FAQ.\"\n",
    "            }\n",
    "        },\n",
    "        \"required\": [\"query\"],\n",
    "        \"additionalProperties\": False\n",
    "    }\n",
    "}"
   ]
  },
  {
   "cell_type": "code",
   "execution_count": null,
   "id": "9d19d356-be1a-4546-b7fe-c4b93df2fec8",
   "metadata": {},
   "outputs": [],
   "source": [
    "import chat_assistant"
   ]
  },
  {
   "cell_type": "code",
   "execution_count": null,
   "id": "4c9cd104-e4e1-4567-a32d-d288665de688",
   "metadata": {},
   "outputs": [],
   "source": [
    "tools = chat_assistant.Tools()\n",
    "tools.add_tool(search, search_description)"
   ]
  },
  {
   "cell_type": "code",
   "execution_count": null,
   "id": "c120c1b0-db9f-4364-a7ac-559d9f2c14b5",
   "metadata": {},
   "outputs": [],
   "source": [
    "tools.get_tools()"
   ]
  },
  {
   "cell_type": "code",
   "execution_count": null,
   "id": "422a4a84-0aca-49fe-9365-efc830e2236d",
   "metadata": {},
   "outputs": [],
   "source": [
    "from openai import OpenAI\n",
    "client = OpenAI()"
   ]
  },
  {
   "cell_type": "code",
   "execution_count": null,
   "id": "b7232417-9835-46ee-8218-2e3e264e7a2e",
   "metadata": {},
   "outputs": [],
   "source": [
    "developer_prompt = \"\"\"\n",
    "You're a course teaching assistant. \n",
    "You're given a question from a course student and your task is to answer it.\n",
    "\n",
    "Use FAQ if your own knowledge is not sufficient to answer the question.\n",
    "\n",
    "At the end of each response, ask the user a follow up question based on your answer.\n",
    "\"\"\".strip()\n",
    "\n",
    "chat_interface = chat_assistant.ChatInterface()\n",
    "\n",
    "chat = chat_assistant.ChatAssistant(\n",
    "    tools=tools,\n",
    "    developer_prompt=developer_prompt,\n",
    "    chat_interface=chat_interface,\n",
    "    client=client\n",
    ")\n"
   ]
  },
  {
   "cell_type": "code",
   "execution_count": null,
   "id": "52a8f8dd-551a-4f4d-9d42-c74414b091a5",
   "metadata": {},
   "outputs": [],
   "source": [
    "chat.run()"
   ]
  },
  {
   "cell_type": "markdown",
   "id": "5c6365a8-b825-437e-ada8-1ff168793a72",
   "metadata": {},
   "source": [
    "## Let's add a new tool"
   ]
  },
  {
   "cell_type": "code",
   "execution_count": null,
   "id": "bdf16fb1-0de0-47ec-9eb1-5a03274bb6a0",
   "metadata": {},
   "outputs": [],
   "source": [
    "def add_entry(question, answer):\n",
    "    doc = {\n",
    "        'question': question,\n",
    "        'text': answer,\n",
    "        'section': 'user added',\n",
    "        'course': 'data-engineering-zoomcamp'\n",
    "    }\n",
    "    index.append(doc)\n",
    "    \n",
    "add_entry_description = {\n",
    "    \"type\": \"function\",\n",
    "    \"name\": \"add_entry\",\n",
    "    \"description\": \"Add an entry to the FAQ database\",\n",
    "    \"parameters\": {\n",
    "        \"type\": \"object\",\n",
    "        \"properties\": {\n",
    "            \"question\": {\n",
    "                \"type\": \"string\",\n",
    "                \"description\": \"The question to be added to the FAQ database\",\n",
    "            },\n",
    "            \"answer\": {\n",
    "                \"type\": \"string\",\n",
    "                \"description\": \"The answer to the question\",\n",
    "            }\n",
    "        },\n",
    "        \"required\": [\"question\", \"answer\"],\n",
    "        \"additionalProperties\": False\n",
    "    }\n",
    "}"
   ]
  },
  {
   "cell_type": "code",
   "execution_count": null,
   "id": "4d694391-3be0-4623-aa53-0223ea2369a2",
   "metadata": {},
   "outputs": [],
   "source": [
    "tools.add_tool(add_entry, add_entry_description)"
   ]
  },
  {
   "cell_type": "code",
   "execution_count": null,
   "id": "d1bcbd65-8afe-482a-af8f-0f17cbce6acc",
   "metadata": {},
   "outputs": [],
   "source": [
    "tools.get_tools()"
   ]
  },
  {
   "cell_type": "code",
   "execution_count": null,
   "id": "c7692aa7-354e-430e-985e-28517b1d80f1",
   "metadata": {},
   "outputs": [],
   "source": [
    "chat.run()"
   ]
  },
  {
   "cell_type": "code",
   "execution_count": null,
   "id": "10114aa6-e3e7-4f2d-8669-10fde7516921",
   "metadata": {},
   "outputs": [],
   "source": [
    "index.docs[-1]"
   ]
  },
  {
   "cell_type": "code",
   "execution_count": null,
   "id": "a7a9b616-7658-4a93-93cf-19818feac581",
   "metadata": {},
   "outputs": [],
   "source": [
    "search(\"how do I do well for module 1?\")"
   ]
  },
  {
   "cell_type": "markdown",
   "id": "30bfe2f8-c991-4af2-9a1b-2ab318763742",
   "metadata": {},
   "source": [
    "## Frameworks"
   ]
  },
  {
   "cell_type": "markdown",
   "id": "a7b83840-2728-40c7-bfb6-b8fe5b20b522",
   "metadata": {},
   "source": [
    "Let's use PydanticAI\n",
    "\n",
    "    pip install pydantic-ai"
   ]
  },
  {
   "cell_type": "code",
   "execution_count": null,
   "id": "c507981e-c3f4-4a0a-bc11-24cef6b757e3",
   "metadata": {},
   "outputs": [],
   "source": [
    "from pydantic_ai import Agent, RunContext\n",
    "from typing import Dict"
   ]
  },
  {
   "cell_type": "code",
   "execution_count": null,
   "id": "fb375ee6-e3cc-4702-9189-3e1588eb043e",
   "metadata": {},
   "outputs": [],
   "source": [
    "chat_agent = Agent(  \n",
    "    'openai:gpt-4o-mini',\n",
    "    system_prompt=developer_prompt\n",
    ")"
   ]
  },
  {
   "cell_type": "code",
   "execution_count": null,
   "id": "07f5b957-3dea-4d30-8110-965a69a4309e",
   "metadata": {},
   "outputs": [],
   "source": [
    "@chat_agent.tool\n",
    "def search_tool(ctx: RunContext, query: str) -> Dict[str, str]:\n",
    "    \"\"\"\n",
    "    Search the FAQ for relevant entries matching the query.\n",
    "\n",
    "    Parameters\n",
    "    ----------\n",
    "    query : str\n",
    "        The search query string provided by the user.\n",
    "\n",
    "    Returns\n",
    "    -------\n",
    "    list\n",
    "        A list of search results (up to 5), each containing relevance information \n",
    "        and associated output IDs.\n",
    "    \"\"\"\n",
    "    print(f\"search('{query}')\")\n",
    "    return search(query)"
   ]
  },
  {
   "cell_type": "code",
   "execution_count": null,
   "id": "c00faeb7-d926-486a-bb1f-312b9c6265ee",
   "metadata": {},
   "outputs": [],
   "source": [
    "@chat_agent.tool\n",
    "def add_entry_tool(ctx: RunContext, question: str, answer: str) -> None:\n",
    "    \"\"\"\n",
    "    Add a new question-answer entry to FAQ.\n",
    "\n",
    "    This function creates a document with the given question and answer, \n",
    "    tagging it as user-added content.\n",
    "\n",
    "    Parameters\n",
    "    ----------\n",
    "    question : str\n",
    "        The question text to be added to the index.\n",
    "\n",
    "    answer : str\n",
    "        The answer or explanation corresponding to the question.\n",
    "\n",
    "    Returns\n",
    "    -------\n",
    "    None\n",
    "    \"\"\"\n",
    "    return add_entry(question, answer)"
   ]
  },
  {
   "cell_type": "code",
   "execution_count": null,
   "id": "83191e3b-98b8-47bd-b7cf-038c311a268e",
   "metadata": {},
   "outputs": [],
   "source": [
    "user_prompt = \"I just discovered the course. Can I join now?\"\n",
    "\n",
    "agent_run = await chat_agent.run(user_prompt)"
   ]
  },
  {
   "cell_type": "code",
   "execution_count": null,
   "id": "271e431c-71b2-425e-888b-ddd51806afb6",
   "metadata": {},
   "outputs": [],
   "source": [
    "agent_run.output"
   ]
  },
  {
   "cell_type": "code",
   "execution_count": null,
   "id": "9f161a6e-e722-48c4-b96b-8d913f12e170",
   "metadata": {},
   "outputs": [],
   "source": []
  }
 ],
 "metadata": {
  "kernelspec": {
   "display_name": "Python 3 (ipykernel)",
   "language": "python",
   "name": "python3"
  },
  "language_info": {
   "codemirror_mode": {
    "name": "ipython",
    "version": 3
   },
   "file_extension": ".py",
   "mimetype": "text/x-python",
   "name": "python",
   "nbconvert_exporter": "python",
   "pygments_lexer": "ipython3",
   "version": "3.12.3"
  }
 },
 "nbformat": 4,
 "nbformat_minor": 5
}
