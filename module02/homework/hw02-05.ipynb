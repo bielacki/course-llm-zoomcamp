{
 "cells": [
  {
   "cell_type": "code",
   "execution_count": 1,
   "id": "c954c4a9",
   "metadata": {},
   "outputs": [
    {
     "name": "stderr",
     "output_type": "stream",
     "text": [
      "/Users/m/code/course-llm-zoomcamp/module02/.venv/lib/python3.12/site-packages/tqdm/auto.py:21: TqdmWarning: IProgress not found. Please update jupyter and ipywidgets. See https://ipywidgets.readthedocs.io/en/stable/user_install.html\n",
      "  from .autonotebook import tqdm as notebook_tqdm\n"
     ]
    }
   ],
   "source": [
    "from fastembed import TextEmbedding"
   ]
  },
  {
   "cell_type": "code",
   "execution_count": 2,
   "id": "203e0bd6",
   "metadata": {},
   "outputs": [],
   "source": [
    "models = TextEmbedding.list_supported_models()"
   ]
  },
  {
   "cell_type": "code",
   "execution_count": 7,
   "id": "eea5c033",
   "metadata": {},
   "outputs": [],
   "source": [
    "dimensions = []\n",
    "\n",
    "for model in models:\n",
    "    new_model = {'model': model['model'], 'dimension':model['dim']}\n",
    "    dimensions.append(new_model)"
   ]
  },
  {
   "cell_type": "code",
   "execution_count": 10,
   "id": "a8c9cafd",
   "metadata": {},
   "outputs": [
    {
     "name": "stdout",
     "output_type": "stream",
     "text": [
      "{'model': 'BAAI/bge-small-en', 'dimension': 384}\n",
      "{'model': 'BAAI/bge-small-en-v1.5', 'dimension': 384}\n",
      "{'model': 'snowflake/snowflake-arctic-embed-xs', 'dimension': 384}\n",
      "{'model': 'snowflake/snowflake-arctic-embed-s', 'dimension': 384}\n",
      "{'model': 'sentence-transformers/all-MiniLM-L6-v2', 'dimension': 384}\n",
      "{'model': 'sentence-transformers/paraphrase-multilingual-MiniLM-L12-v2', 'dimension': 384}\n"
     ]
    }
   ],
   "source": [
    "# Print key-value pairs with the lowest dimension from the dimensions list\n",
    "min_dim = min([d['dimension'] for d in dimensions])\n",
    "lowest = [d for d in dimensions if d['dimension'] == min_dim]\n",
    "for item in lowest:\n",
    "    print(item)"
   ]
  }
 ],
 "metadata": {
  "kernelspec": {
   "display_name": ".venv",
   "language": "python",
   "name": "python3"
  },
  "language_info": {
   "codemirror_mode": {
    "name": "ipython",
    "version": 3
   },
   "file_extension": ".py",
   "mimetype": "text/x-python",
   "name": "python",
   "nbconvert_exporter": "python",
   "pygments_lexer": "ipython3",
   "version": "3.12.10"
  }
 },
 "nbformat": 4,
 "nbformat_minor": 5
}
