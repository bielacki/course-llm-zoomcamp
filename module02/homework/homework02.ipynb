{
 "cells": [
  {
   "cell_type": "code",
   "execution_count": 1,
   "id": "6b6fd9ae",
   "metadata": {},
   "outputs": [
    {
     "name": "stderr",
     "output_type": "stream",
     "text": [
      "/Users/m/code/course-llm-zoomcamp/module02/.venv/lib/python3.12/site-packages/tqdm/auto.py:21: TqdmWarning: IProgress not found. Please update jupyter and ipywidgets. See https://ipywidgets.readthedocs.io/en/stable/user_install.html\n",
      "  from .autonotebook import tqdm as notebook_tqdm\n"
     ]
    }
   ],
   "source": [
    "from qdrant_client import QdrantClient, models\n",
    "from fastembed import TextEmbedding\n",
    "import numpy as np"
   ]
  },
  {
   "cell_type": "code",
   "execution_count": 6,
   "id": "38ab4516",
   "metadata": {},
   "outputs": [],
   "source": [
    "client = QdrantClient(\"http://localhost:6333\")"
   ]
  },
  {
   "cell_type": "code",
   "execution_count": 3,
   "id": "542374fe",
   "metadata": {},
   "outputs": [],
   "source": [
    "EMBEDDING_DIMENSIONALITY = 512\n",
    "model_handle = \"jinaai/jina-embeddings-v2-small-en\"\n",
    "query = 'I just discovered the course. Can I join now?'"
   ]
  },
  {
   "cell_type": "code",
   "execution_count": null,
   "id": "9680e693",
   "metadata": {},
   "outputs": [],
   "source": [
    "# Define the collection name\n",
    "collection_name = \"zoomcamp-hw02-q01\"\n",
    "\n",
    "# Create the collection with specified vector parameters\n",
    "client.create_collection(\n",
    "    collection_name=collection_name,\n",
    "    vectors_config=models.VectorParams(\n",
    "        size=EMBEDDING_DIMENSIONALITY,  # Dimensionality of the vectors\n",
    "        distance=models.Distance.COSINE  # Distance metric for similarity search\n",
    "    )\n",
    ")"
   ]
  },
  {
   "cell_type": "code",
   "execution_count": null,
   "id": "a8184561",
   "metadata": {},
   "outputs": [],
   "source": [
    "points = []\n",
    "\n",
    "point = models.PointStruct(\n",
    "    id=0,\n",
    "    vector=models.Document(text=query, model=model_handle), #embed text locally with \"jinaai/jina-embeddings-v2-small-en\" from FastEmbed\n",
    "    payload={\n",
    "        \"text\": query,\n",
    "    } #save all needed metadata fields\n",
    ")\n",
    "points.append(point)"
   ]
  },
  {
   "cell_type": "code",
   "execution_count": null,
   "id": "836b182f",
   "metadata": {},
   "outputs": [],
   "source": [
    "points"
   ]
  },
  {
   "cell_type": "code",
   "execution_count": null,
   "id": "442bbbd6",
   "metadata": {},
   "outputs": [],
   "source": [
    "client.upsert(\n",
    "    collection_name=collection_name,\n",
    "    points=points\n",
    ")"
   ]
  },
  {
   "cell_type": "code",
   "execution_count": null,
   "id": "1dff0ea4",
   "metadata": {},
   "outputs": [],
   "source": [
    "# Get vectors from the collection\n",
    "vectors = client.retrieve(\n",
    "    collection_name=collection_name,\n",
    "    ids=[0, 1],  # we'll retrieve the vector for point with id=0\n",
    "    with_vectors=True  # include vectors in the response\n",
    ")"
   ]
  },
  {
   "cell_type": "code",
   "execution_count": null,
   "id": "59f8205b",
   "metadata": {},
   "outputs": [],
   "source": [
    "print(min(vectors[0].vector))"
   ]
  },
  {
   "cell_type": "code",
   "execution_count": null,
   "id": "50d35849",
   "metadata": {},
   "outputs": [],
   "source": [
    "q2 = 'Can I still join the course after the start date?'"
   ]
  },
  {
   "cell_type": "code",
   "execution_count": null,
   "id": "bd76bbdf",
   "metadata": {},
   "outputs": [],
   "source": [
    "point = models.PointStruct(\n",
    "    id=1,\n",
    "    vector=models.Document(text=q2, model=model_handle), #embed text locally with \"jinaai/jina-embeddings-v2-small-en\" from FastEmbed\n",
    "    payload={\n",
    "        \"text\": q2,\n",
    "    } #save all needed metadata fields\n",
    ")\n",
    "points.append(point)\n",
    "\n",
    "client.upsert(\n",
    "    collection_name=collection_name,\n",
    "    points=points\n",
    ")"
   ]
  },
  {
   "cell_type": "code",
   "execution_count": null,
   "id": "fbd9a55d",
   "metadata": {},
   "outputs": [],
   "source": [
    "# Get vectors from the collection\n",
    "vectors = client.retrieve(\n",
    "    collection_name=collection_name,\n",
    "    ids=[0, 1],  # we'll retrieve the vector for point with id=0\n",
    "    with_vectors=True  # include vectors in the response\n",
    ")"
   ]
  },
  {
   "cell_type": "code",
   "execution_count": null,
   "id": "1013890a",
   "metadata": {},
   "outputs": [],
   "source": [
    "q1_vector = vectors[0].vector\n",
    "q2_vector = vectors[1].vector"
   ]
  },
  {
   "cell_type": "code",
   "execution_count": null,
   "id": "c0475eca",
   "metadata": {},
   "outputs": [],
   "source": [
    "print(q1_vector)\n",
    "print(\"\\n\\n\\n\")\n",
    "print(q2_vector)"
   ]
  },
  {
   "cell_type": "code",
   "execution_count": null,
   "id": "ac779a8b",
   "metadata": {},
   "outputs": [],
   "source": [
    "# Compute cosine similarity between q1_vector and q2_vector\n",
    "def cosine_similarity(a, b):\n",
    "    a = np.array(a)\n",
    "    b = np.array(b)\n",
    "    return a.dot(b)\n",
    "\n",
    "similarity = cosine_similarity(q1_vector, q2_vector)\n",
    "print(f\"Cosine similarity between vector 0 and vector 1: {similarity}\")"
   ]
  }
 ],
 "metadata": {
  "kernelspec": {
   "display_name": ".venv",
   "language": "python",
   "name": "python3"
  },
  "language_info": {
   "codemirror_mode": {
    "name": "ipython",
    "version": 3
   },
   "file_extension": ".py",
   "mimetype": "text/x-python",
   "name": "python",
   "nbconvert_exporter": "python",
   "pygments_lexer": "ipython3",
   "version": "3.12.10"
  }
 },
 "nbformat": 4,
 "nbformat_minor": 5
}
